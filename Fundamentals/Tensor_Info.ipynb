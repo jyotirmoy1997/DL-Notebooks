{
 "cells": [
  {
   "cell_type": "markdown",
   "id": "87e28367",
   "metadata": {},
   "source": [
    "### Importing Tensorflow"
   ]
  },
  {
   "cell_type": "code",
   "execution_count": 1,
   "id": "9edb0e39",
   "metadata": {},
   "outputs": [],
   "source": [
    "import tensorflow as tf"
   ]
  },
  {
   "cell_type": "code",
   "execution_count": 2,
   "id": "68ce3bdf",
   "metadata": {},
   "outputs": [
    {
     "data": {
      "text/plain": [
       "'2.19.0'"
      ]
     },
     "execution_count": 2,
     "metadata": {},
     "output_type": "execute_result"
    }
   ],
   "source": [
    "tf.__version__"
   ]
  },
  {
   "cell_type": "markdown",
   "id": "324c9c40",
   "metadata": {},
   "source": [
    "### Creating a Scaler"
   ]
  },
  {
   "cell_type": "code",
   "execution_count": 4,
   "id": "c8534cca",
   "metadata": {},
   "outputs": [
    {
     "data": {
      "text/plain": [
       "<tf.Tensor: shape=(), dtype=int32, numpy=7>"
      ]
     },
     "execution_count": 4,
     "metadata": {},
     "output_type": "execute_result"
    }
   ],
   "source": [
    "scaler = tf.constant(7)\n",
    "scaler"
   ]
  },
  {
   "cell_type": "markdown",
   "id": "b5e20359",
   "metadata": {},
   "source": [
    "### Creating a Vector"
   ]
  },
  {
   "cell_type": "code",
   "execution_count": 5,
   "id": "4986af84",
   "metadata": {},
   "outputs": [
    {
     "data": {
      "text/plain": [
       "<tf.Tensor: shape=(2,), dtype=int32, numpy=array([10, 10])>"
      ]
     },
     "execution_count": 5,
     "metadata": {},
     "output_type": "execute_result"
    }
   ],
   "source": [
    "vector = tf.constant([10, 10])\n",
    "vector"
   ]
  },
  {
   "cell_type": "code",
   "execution_count": 6,
   "id": "343d5b03",
   "metadata": {},
   "outputs": [
    {
     "data": {
      "text/plain": [
       "1"
      ]
     },
     "execution_count": 6,
     "metadata": {},
     "output_type": "execute_result"
    }
   ],
   "source": [
    "vector.ndim"
   ]
  },
  {
   "cell_type": "code",
   "execution_count": 7,
   "id": "456d32b1",
   "metadata": {},
   "outputs": [
    {
     "data": {
      "text/plain": [
       "<tf.Tensor: shape=(2, 2), dtype=int32, numpy=\n",
       "array([[10, 19],\n",
       "       [20, 21]])>"
      ]
     },
     "execution_count": 7,
     "metadata": {},
     "output_type": "execute_result"
    }
   ],
   "source": [
    "matrix = tf.constant([\n",
    "    [10, 19],\n",
    "    [20, 21]\n",
    "])\n",
    "\n",
    "matrix"
   ]
  },
  {
   "cell_type": "code",
   "execution_count": 8,
   "id": "673dd205",
   "metadata": {},
   "outputs": [
    {
     "data": {
      "text/plain": [
       "2"
      ]
     },
     "execution_count": 8,
     "metadata": {},
     "output_type": "execute_result"
    }
   ],
   "source": [
    "matrix.ndim"
   ]
  },
  {
   "cell_type": "markdown",
   "id": "46840c97",
   "metadata": {},
   "source": [
    "### Creating a Tensor"
   ]
  },
  {
   "cell_type": "code",
   "execution_count": 12,
   "id": "9bd6f237",
   "metadata": {},
   "outputs": [
    {
     "data": {
      "text/plain": [
       "<tf.Tensor: shape=(2, 2, 3), dtype=int32, numpy=\n",
       "array([[[10, 11, 12],\n",
       "        [90, 21, 45]],\n",
       "\n",
       "       [[10, 78, 70],\n",
       "        [45, 67, 78]]])>"
      ]
     },
     "execution_count": 12,
     "metadata": {},
     "output_type": "execute_result"
    }
   ],
   "source": [
    "tensor = tf.constant([\n",
    "    [\n",
    "        [10, 11, 12],\n",
    "        [90, 21, 45]\n",
    "    ],\n",
    "    [\n",
    "        [10, 78, 70],\n",
    "        [45, 67, 78],\n",
    "    ]\n",
    "])\n",
    "\n",
    "tensor"
   ]
  },
  {
   "cell_type": "code",
   "execution_count": 10,
   "id": "654f176a",
   "metadata": {},
   "outputs": [
    {
     "data": {
      "text/plain": [
       "3"
      ]
     },
     "execution_count": 10,
     "metadata": {},
     "output_type": "execute_result"
    }
   ],
   "source": [
    "tensor.ndim"
   ]
  },
  {
   "cell_type": "markdown",
   "id": "022e8957",
   "metadata": {},
   "source": [
    "### Creating Variable Tensors"
   ]
  },
  {
   "cell_type": "code",
   "execution_count": 3,
   "id": "60125d17",
   "metadata": {},
   "outputs": [
    {
     "data": {
      "text/plain": [
       "<tf.Variable 'Variable:0' shape=(2,) dtype=int32, numpy=array([10,  7])>"
      ]
     },
     "execution_count": 3,
     "metadata": {},
     "output_type": "execute_result"
    }
   ],
   "source": [
    "change_tensor = tf.Variable([10, 7])\n",
    "\n",
    "change_tensor"
   ]
  },
  {
   "cell_type": "code",
   "execution_count": 4,
   "id": "3157b666",
   "metadata": {},
   "outputs": [
    {
     "data": {
      "text/plain": [
       "<tf.Variable 'Variable:0' shape=(2,) dtype=int32, numpy=array([10,  8])>"
      ]
     },
     "execution_count": 4,
     "metadata": {},
     "output_type": "execute_result"
    }
   ],
   "source": [
    "change_tensor[1].assign(8)\n",
    "\n",
    "change_tensor"
   ]
  },
  {
   "cell_type": "markdown",
   "id": "527585ac",
   "metadata": {},
   "source": [
    "### Creating Random Tensors"
   ]
  },
  {
   "cell_type": "code",
   "execution_count": 8,
   "id": "640ff741",
   "metadata": {},
   "outputs": [
    {
     "data": {
      "text/plain": [
       "<tf.Tensor: shape=(2, 2), dtype=float32, numpy=\n",
       "array([[-0.7565803 , -0.06854702],\n",
       "       [ 0.07595026, -1.2573844 ]], dtype=float32)>"
      ]
     },
     "execution_count": 8,
     "metadata": {},
     "output_type": "execute_result"
    }
   ],
   "source": [
    "random = tf.random.Generator.from_seed(42)\n",
    "\n",
    "random_1 = random.normal(shape=(2, 2))\n",
    "random_1"
   ]
  },
  {
   "cell_type": "markdown",
   "id": "e100b629",
   "metadata": {},
   "source": [
    "### Shuffle Tensors"
   ]
  },
  {
   "cell_type": "code",
   "execution_count": 9,
   "id": "f9ed9f24",
   "metadata": {},
   "outputs": [
    {
     "data": {
      "text/plain": [
       "<tf.Tensor: shape=(3, 2), dtype=int32, numpy=\n",
       "array([[ 8,  9],\n",
       "       [ 1,  4],\n",
       "       [10,  7]])>"
      ]
     },
     "execution_count": 9,
     "metadata": {},
     "output_type": "execute_result"
    }
   ],
   "source": [
    "t1 = tf.Variable([[10, 7],\n",
    "                  [8, 9],\n",
    "                  [1, 4]])\n",
    "\n",
    "\n",
    "tf.random.shuffle(t1)"
   ]
  },
  {
   "cell_type": "markdown",
   "id": "b71e73c5",
   "metadata": {},
   "source": [
    "### Creating a tensor of ones"
   ]
  },
  {
   "cell_type": "code",
   "execution_count": 2,
   "id": "5885d955",
   "metadata": {},
   "outputs": [
    {
     "data": {
      "text/plain": [
       "<tf.Tensor: shape=(3, 3), dtype=float32, numpy=\n",
       "array([[1., 1., 1.],\n",
       "       [1., 1., 1.],\n",
       "       [1., 1., 1.]], dtype=float32)>"
      ]
     },
     "execution_count": 2,
     "metadata": {},
     "output_type": "execute_result"
    }
   ],
   "source": [
    "t1 = tf.ones(shape=(3, 3))\n",
    "\n",
    "t1"
   ]
  },
  {
   "cell_type": "markdown",
   "id": "807bc990",
   "metadata": {},
   "source": [
    "### Creating a tensor of zeros"
   ]
  },
  {
   "cell_type": "code",
   "execution_count": 3,
   "id": "27ffadcc",
   "metadata": {},
   "outputs": [
    {
     "data": {
      "text/plain": [
       "<tf.Tensor: shape=(3, 3), dtype=float32, numpy=\n",
       "array([[0., 0., 0.],\n",
       "       [0., 0., 0.],\n",
       "       [0., 0., 0.]], dtype=float32)>"
      ]
     },
     "execution_count": 3,
     "metadata": {},
     "output_type": "execute_result"
    }
   ],
   "source": [
    "t1 = tf.zeros(shape=(3, 3))\n",
    "\n",
    "t1"
   ]
  },
  {
   "cell_type": "markdown",
   "id": "406f4ba5",
   "metadata": {},
   "source": [
    "### Creating tensor from numpy array"
   ]
  },
  {
   "cell_type": "code",
   "execution_count": 4,
   "id": "40380b3c",
   "metadata": {},
   "outputs": [],
   "source": [
    "import numpy as np"
   ]
  },
  {
   "cell_type": "code",
   "execution_count": 6,
   "id": "0063ef60",
   "metadata": {},
   "outputs": [
    {
     "data": {
      "text/plain": [
       "<tf.Tensor: shape=(24,), dtype=int32, numpy=\n",
       "array([ 1,  2,  3,  4,  5,  6,  7,  8,  9, 10, 11, 12, 13, 14, 15, 16, 17,\n",
       "       18, 19, 20, 21, 22, 23, 24])>"
      ]
     },
     "execution_count": 6,
     "metadata": {},
     "output_type": "execute_result"
    }
   ],
   "source": [
    "arr1 = np.arange(1, 25, 1)\n",
    "\n",
    "matrix_1 = tf.constant(arr1)\n",
    "matrix_1"
   ]
  },
  {
   "cell_type": "markdown",
   "id": "1fddc28a",
   "metadata": {},
   "source": [
    "### Expanding/Increasing dimension of a tensor"
   ]
  },
  {
   "cell_type": "code",
   "execution_count": 7,
   "id": "28d6a98a",
   "metadata": {},
   "outputs": [],
   "source": [
    "rank_2_tensor = tf.ones(shape=(2, 2))"
   ]
  },
  {
   "cell_type": "code",
   "execution_count": 8,
   "id": "d15bc98e",
   "metadata": {},
   "outputs": [
    {
     "data": {
      "text/plain": [
       "<tf.Tensor: shape=(2, 2), dtype=float32, numpy=\n",
       "array([[1., 1.],\n",
       "       [1., 1.]], dtype=float32)>"
      ]
     },
     "execution_count": 8,
     "metadata": {},
     "output_type": "execute_result"
    }
   ],
   "source": [
    "rank_2_tensor"
   ]
  },
  {
   "cell_type": "code",
   "execution_count": 19,
   "id": "7b8966c1",
   "metadata": {},
   "outputs": [
    {
     "data": {
      "text/plain": [
       "<tf.Tensor: shape=(2, 2, 1), dtype=float32, numpy=\n",
       "array([[[1.],\n",
       "        [1.]],\n",
       "\n",
       "       [[1.],\n",
       "        [1.]]], dtype=float32)>"
      ]
     },
     "execution_count": 19,
     "metadata": {},
     "output_type": "execute_result"
    }
   ],
   "source": [
    "tf.expand_dims(rank_2_tensor, axis=2)"
   ]
  },
  {
   "cell_type": "code",
   "execution_count": null,
   "id": "8debe98e",
   "metadata": {},
   "outputs": [],
   "source": []
  }
 ],
 "metadata": {
  "kernelspec": {
   "display_name": "Python 3",
   "language": "python",
   "name": "python3"
  },
  "language_info": {
   "codemirror_mode": {
    "name": "ipython",
    "version": 3
   },
   "file_extension": ".py",
   "mimetype": "text/x-python",
   "name": "python",
   "nbconvert_exporter": "python",
   "pygments_lexer": "ipython3",
   "version": "3.12.8"
  }
 },
 "nbformat": 4,
 "nbformat_minor": 5
}
